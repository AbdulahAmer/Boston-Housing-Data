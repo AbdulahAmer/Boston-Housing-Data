{
 "cells": [
  {
   "cell_type": "code",
   "execution_count": 1,
   "metadata": {},
   "outputs": [],
   "source": [
    "from sklearn.datasets import load_boston \n",
    "from sklearn.linear_model import LinearRegression \n",
    "from sklearn.metrics import mean_squared_error\n",
    "\n",
    "import pandas as pd \n",
    "import numpy as np "
   ]
  },
  {
   "cell_type": "code",
   "execution_count": 2,
   "metadata": {},
   "outputs": [],
   "source": [
    "# Gather Data \n",
    "boston_dataset =load_boston()\n",
    "data=pd.DataFrame(data=boston_dataset.data, \n",
    "                  columns=boston_dataset.feature_names)\n",
    "features =data.drop(['INDUS', 'AGE'], axis=1)\n",
    "\n",
    "log_prices = np.log(boston_dataset.target)\n",
    "#features are 506,11 \n",
    "#log prices are 506,\n",
    "# turn log prices into data frame \n",
    "\n",
    "target=pd.DataFrame(log_prices, columns=['PRICE'])\n"
   ]
  },
  {
   "cell_type": "code",
   "execution_count": 11,
   "metadata": {},
   "outputs": [],
   "source": [
    "CRIME_IDX = 0\n",
    "ZN_IDX = 1\n",
    "CHAS_IDX = 2\n",
    "RM_IDX =4\n",
    "PTRATIO_IDX = 8\n",
    "\n",
    "# property_stats =np.ndarray(shape=(1,11))\n",
    "# property_stats[0][CRIME_IDX] = features['CRIM'].mean()\n",
    "# property_stats[0][ZN_IDX] =\n",
    "# property_stats[0][CHAS_IDX] =\n",
    "\n",
    "#dont do that just get values of our features. \n",
    "features.mean() # series\n",
    "features.mean().values #array , shape is 11, we need 11,1\n",
    "\n",
    "property_stats = features.mean().values.reshape(1,11)"
   ]
  },
  {
   "cell_type": "code",
   "execution_count": 12,
   "metadata": {},
   "outputs": [
    {
     "data": {
      "text/plain": [
       "array([[3.61352356e+00, 1.13636364e+01, 6.91699605e-02, 5.54695059e-01,\n",
       "        6.28463439e+00, 3.79504269e+00, 9.54940711e+00, 4.08237154e+02,\n",
       "        1.84555336e+01, 3.56674032e+02, 1.26530632e+01]])"
      ]
     },
     "execution_count": 12,
     "metadata": {},
     "output_type": "execute_result"
    }
   ],
   "source": [
    "property_stats"
   ]
  },
  {
   "cell_type": "code",
   "execution_count": 43,
   "metadata": {},
   "outputs": [],
   "source": [
    "regr= LinearRegression().fit(features, target)\n",
    "#calculating predicted values\n",
    "fitted_vals =regr.predict(features) \n",
    "\n",
    "MSE = mean_squared_error(target, fitted_vals)\n",
    "RMSE =np.sqrt(MSE)\n",
    "\n",
    "#units for MSE and RMSE are in log dollar *1000"
   ]
  },
  {
   "cell_type": "code",
   "execution_count": 44,
   "metadata": {},
   "outputs": [],
   "source": [
    "def get_log_estimate(nr_rooms, \n",
    "                    students_per_classroom, \n",
    "                    next_to_river= False, \n",
    "                    high_confidence=True): \n",
    " \n",
    "\n",
    "    if next_to_river: \n",
    "        property_stats[0][CHAS_IDX]=1\n",
    "    else: \n",
    "        property_stats[0][CHAS_IDX]=0\n",
    "    \n",
    "    property_stats[0][RM_IDX]=nr_rooms \n",
    "    property_stats[0][PTRATIO_IDX]=students_per_classroom\n",
    "    log_estimate =regr.predict(property_stats)[0][0]\n",
    "    \n",
    "    \n",
    "    # calc range \n",
    "    \n",
    "    if high_confidence: \n",
    "        upper_bound = log_estimate + 2*RMSE\n",
    "        lower_bound = log_estimate - 2*RMSE\n",
    "        interval = 95\n",
    "    else:\n",
    "        upper_bound = log_estimate + RMSE\n",
    "        lower_bound = log_estimate - RMSE\n",
    "        interval = 68\n",
    "    return log_estimate, upper_bound, lower_bound, interval"
   ]
  },
  {
   "cell_type": "code",
   "execution_count": 45,
   "metadata": {},
   "outputs": [
    {
     "data": {
      "text/plain": [
       "(2.7767581914803996, 3.15178246187466, 2.401733921086139, 95)"
      ]
     },
     "execution_count": 45,
     "metadata": {},
     "output_type": "execute_result"
    }
   ],
   "source": [
    "get_log_estimate(3,20, next_to_river=True)"
   ]
  },
  {
   "cell_type": "code",
   "execution_count": 49,
   "metadata": {},
   "outputs": [],
   "source": [
    "median_70s=np.median(boston_dataset.target)"
   ]
  },
  {
   "cell_type": "code",
   "execution_count": 76,
   "metadata": {},
   "outputs": [],
   "source": [
    "Zillow_median_price = 583.3\n",
    "scale=Zillow_median_price/median_70s\n",
    "\n",
    "def get_dollar(rm, ptratio, chas=False, conf=True):\n",
    "    \"\"\"\n",
    "    Estimate price of a boston home. \n",
    "    rm---num of rooms \n",
    "    ptratio--num of students per teacher in area\n",
    "    chas--True if near Charles River, Otherwise False\n",
    "    conf=True for 95% confidence , False for 68% confidence\n",
    "    \n",
    "    \"\"\"\n",
    "    if rm<1 or ptratio <1: \n",
    "        print('not possible. Try again.')\n",
    "        return \n",
    "    est, upper, lower, conf = get_log_estimate(rm, \n",
    "                                               ptratio, \n",
    "                                               chas, \n",
    "                                               conf)\n",
    "    #convert to approximately todays dollars \n",
    "    dollars = np.e**est *1000 * scale \n",
    "    upper=np.e**upper*1000*scale \n",
    "    lower=np.e**lower*1000*scale\n",
    "    # round\n",
    "    rounded= np.around(dollars, -3)\n",
    "    rupper=np.around(upper, -3)\n",
    "    rlower=np.around(lower, -3)\n",
    "\n",
    "    print(f'Estimated property value $ {rounded}')\n",
    "    print(f'At {conf}% confidence range is')\n",
    "    print(f'between $ {rlower}, and $ {rupper}')\n"
   ]
  },
  {
   "cell_type": "code",
   "execution_count": 77,
   "metadata": {},
   "outputs": [
    {
     "name": "stdout",
     "output_type": "stream",
     "text": [
      "Estimated property value $ 328000.0\n",
      "At 95% confidence range is\n",
      "between $ 226000.0, and $ 477000.0\n"
     ]
    }
   ],
   "source": [
    "get_dollar(5,30)"
   ]
  },
  {
   "cell_type": "code",
   "execution_count": null,
   "metadata": {},
   "outputs": [],
   "source": []
  }
 ],
 "metadata": {
  "kernelspec": {
   "display_name": "Python 3",
   "language": "python",
   "name": "python3"
  },
  "language_info": {
   "codemirror_mode": {
    "name": "ipython",
    "version": 3
   },
   "file_extension": ".py",
   "mimetype": "text/x-python",
   "name": "python",
   "nbconvert_exporter": "python",
   "pygments_lexer": "ipython3",
   "version": "3.7.6"
  }
 },
 "nbformat": 4,
 "nbformat_minor": 4
}
